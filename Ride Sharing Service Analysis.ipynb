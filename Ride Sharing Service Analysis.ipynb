{
 "cells": [
  {
   "cell_type": "code",
   "execution_count": 1,
   "id": "1e16df20",
   "metadata": {},
   "outputs": [],
   "source": [
    "from pyspark.sql import SparkSession\n",
    "from pyspark.sql.functions import col\n",
    "\n",
    "import matplotlib.pyplot as plt"
   ]
  },
  {
   "cell_type": "code",
   "execution_count": 2,
   "id": "9b4169a0",
   "metadata": {},
   "outputs": [],
   "source": [
    "spark = SparkSession.builder.appName('RideSharingServiceAnalysis').getOrCreate()"
   ]
  },
  {
   "cell_type": "code",
   "execution_count": 3,
   "id": "2cf0226f",
   "metadata": {},
   "outputs": [],
   "source": [
    "ride_data = spark.read.option('header', 'true').csv('ride_data.csv')"
   ]
  },
  {
   "cell_type": "code",
   "execution_count": 4,
   "id": "65f0933e",
   "metadata": {},
   "outputs": [],
   "source": [
    "ride_data.createOrReplaceTempView('ride_data_table')"
   ]
  },
  {
   "cell_type": "code",
   "execution_count": 5,
   "id": "c24d90cc",
   "metadata": {},
   "outputs": [
    {
     "name": "stdout",
     "output_type": "stream",
     "text": [
      "+------+--------+----------+----------------+----------------+--------------+---------------+-----------+----+\n",
      "|rideID|driverID|customerID|       startTime|         endTime|pickupLocation|dropoffLocation|distance_km|fare|\n",
      "+------+--------+----------+----------------+----------------+--------------+---------------+-----------+----+\n",
      "|     1|      25|        12|04-04-2023 07:30|04-04-2023 08:40| Parade Ground|    Dilsuknagar|         25| 300|\n",
      "|     2|      23|        19|04-04-2023 07:49|04-04-2023 09:00|   S. R. Nagar|    Musheerabad|         20| 240|\n",
      "|     3|      28|        11|04-04-2023 08:02|04-04-2023 09:13|      Ameerpet|  Chikkadapally|         15| 180|\n",
      "|     4|      26|        13|04-04-2023 08:27|04-04-2023 09:33|  Narayanaguda|     Panjagutta|         14| 168|\n",
      "|     5|      27|        18|04-04-2023 08:58|04-04-2017 10:02|      Begumpet|     Kukatpally|         16| 192|\n",
      "|     6|      22|       110|04-04-2023 09:01|04-04-2023 09:34|    Rasoolpura|           NGRI|         12| 144|\n",
      "|     7|      25|        14|04-04-2023 09:17|04-04-2023 09:53|      Malakpet|      L B Nagar|         11| 132|\n",
      "|     8|      27|        17|04-04-2023 09:45|04-04-2023 10:39|     Yusufguda|   Lakdi-ka-pul|         10| 120|\n",
      "|     9|      29|        16|04-04-2023 10:30|04-04-2023 11:12|   Khairatabad|   Peddama Gudi|         13| 156|\n",
      "|    10|      25|        15|04-04-2023 10:45|04-04-2023 11:30|      Nampally|Gandhi Hospital|         13| 156|\n",
      "+------+--------+----------+----------------+----------------+--------------+---------------+-----------+----+\n",
      "\n"
     ]
    }
   ],
   "source": [
    "ride_data.show()"
   ]
  },
  {
   "cell_type": "code",
   "execution_count": 6,
   "id": "830b2594",
   "metadata": {},
   "outputs": [
    {
     "name": "stdout",
     "output_type": "stream",
     "text": [
      "+----------+-------+----+-------+-------------+\n",
      "|customerID|  cname|cage|cgender|     location|\n",
      "+----------+-------+----+-------+-------------+\n",
      "|        11|   raju|  18|      M|     Ameerpet|\n",
      "|        12|   rani|  35|      F|Parade Ground|\n",
      "|        13|   siri|  49|      M| Narayanaguda|\n",
      "|        14|   hari|  52|      F|     Malakpet|\n",
      "|        15|madhavi|  22|      F|     Nampally|\n",
      "|        16|  roopa|  25|      F|  Khairatabad|\n",
      "|        17|   neha|  31|      F|    Yusufguda|\n",
      "|        18|  henry|  63|      M|    Begumpeta|\n",
      "|        19|   guen|  26|      F|  S. R. Nagar|\n",
      "|       110|  harry|  87|      M|  Rasuoolpura|\n",
      "+----------+-------+----+-------+-------------+\n",
      "\n"
     ]
    }
   ],
   "source": [
    "customer_data = spark.read.option('header', 'true').csv('customer_data.csv')\n",
    "customer_data.createOrReplaceTempView('customer_data_table')\n",
    "customer_data.show()"
   ]
  },
  {
   "cell_type": "code",
   "execution_count": 7,
   "id": "8d7ee06e",
   "metadata": {},
   "outputs": [
    {
     "name": "stdout",
     "output_type": "stream",
     "text": [
      "+--------+--------+----+-------+------------------+\n",
      "|driverID|   dname|dage|dgender|yearsOf Experience|\n",
      "+--------+--------+----+-------+------------------+\n",
      "|      21|   raghu|  34|      M|                11|\n",
      "|      22|   sagar|  25|      M|                 6|\n",
      "|      23|   kiran|  35|      M|                 9|\n",
      "|      24|pentayya|  32|      M|                 9|\n",
      "|      25| kotayya|  31|      M|                 8|\n",
      "|      26|appparao|  27|      M|                 5|\n",
      "|      27|    babu|  30|      M|                 7|\n",
      "|      28|  lokesh|  29|      M|                 6|\n",
      "|      29|  ramesh|  33|      M|                10|\n",
      "|     210|  suresh|  26|      M|                 4|\n",
      "+--------+--------+----+-------+------------------+\n",
      "\n"
     ]
    }
   ],
   "source": [
    "driver_data = spark.read.option('header', 'true').csv('driver_data.csv')\n",
    "driver_data.createOrReplaceTempView('driver_data_table')\n",
    "driver_data.show()"
   ]
  },
  {
   "cell_type": "code",
   "execution_count": 8,
   "id": "71253458",
   "metadata": {},
   "outputs": [
    {
     "name": "stdout",
     "output_type": "stream",
     "text": [
      "+----------------+--------------+---------------+----------------+----------------+\n",
      "|longest_distance|pickupLocation|dropoffLocation|       startTime|         endTime|\n",
      "+----------------+--------------+---------------+----------------+----------------+\n",
      "|              25| Parade Ground|    Dilsuknagar|04-04-2023 07:30|04-04-2023 08:40|\n",
      "+----------------+--------------+---------------+----------------+----------------+\n",
      "\n"
     ]
    }
   ],
   "source": [
    "longest_ride = spark.sql(\"select distance_km as longest_distance,pickupLocation,dropoffLocation,startTime,endTime from ride_data_table order by distance_km desc limit 1\")\n",
    "longest_ride.show()"
   ]
  },
  {
   "cell_type": "code",
   "execution_count": 9,
   "id": "fa592d3a",
   "metadata": {},
   "outputs": [
    {
     "name": "stdout",
     "output_type": "stream",
     "text": [
      "+-----------------+--------------+---------------+----------------+----------------+\n",
      "|shortest_distance|pickupLocation|dropoffLocation|       startTime|         endTime|\n",
      "+-----------------+--------------+---------------+----------------+----------------+\n",
      "|               10|     Yusufguda|   Lakdi-ka-pul|04-04-2023 09:45|04-04-2023 10:39|\n",
      "+-----------------+--------------+---------------+----------------+----------------+\n",
      "\n"
     ]
    }
   ],
   "source": [
    "shortest_ride = spark.sql(\"select distance_km as shortest_distance,pickupLocation,dropoffLocation,startTime,endTime from ride_data_table order by distance_km asc limit 1\")\n",
    "shortest_ride.show()"
   ]
  },
  {
   "cell_type": "code",
   "execution_count": 10,
   "id": "1fed78fa",
   "metadata": {},
   "outputs": [
    {
     "name": "stdout",
     "output_type": "stream",
     "text": [
      "+----------+-----+----------------+\n",
      "|customerID|cname|longest_distance|\n",
      "+----------+-----+----------------+\n",
      "|        12| rani|              25|\n",
      "+----------+-----+----------------+\n",
      "\n"
     ]
    }
   ],
   "source": [
    "longest_ride_customer = spark.sql('select ride_data_table.customerID,customer_data_table.cname,ride_data_table.distance_km as longest_distance from ride_data_table inner join customer_data_table on ride_data_table.customerID=customer_data_table.customerID order by ride_data_table.distance_km desc limit 1')\n",
    "longest_ride_customer.show()"
   ]
  },
  {
   "cell_type": "code",
   "execution_count": 11,
   "id": "8d7efae9",
   "metadata": {},
   "outputs": [
    {
     "name": "stdout",
     "output_type": "stream",
     "text": [
      "+----------+-----+-----------------+\n",
      "|customerID|cname|shortest_distance|\n",
      "+----------+-----+-----------------+\n",
      "|        17| neha|               10|\n",
      "+----------+-----+-----------------+\n",
      "\n"
     ]
    }
   ],
   "source": [
    "shortest_ride_customer = spark.sql('select ride_data_table.customerID,customer_data_table.cname,ride_data_table.distance_km as shortest_distance from ride_data_table inner join customer_data_table on ride_data_table.customerID=customer_data_table.customerID order by ride_data_table.distance_km asc limit 1')\n",
    "shortest_ride_customer.show()"
   ]
  },
  {
   "cell_type": "code",
   "execution_count": 12,
   "id": "1ba1d09b",
   "metadata": {},
   "outputs": [
    {
     "name": "stdout",
     "output_type": "stream",
     "text": [
      "+---------------------+\n",
      "|average_ride_distance|\n",
      "+---------------------+\n",
      "|                 14.9|\n",
      "+---------------------+\n",
      "\n"
     ]
    }
   ],
   "source": [
    "average_ride_distance = spark.sql('select avg(distance_km) as average_ride_distance from ride_data_table')\n",
    "average_ride_distance.show()"
   ]
  },
  {
   "cell_type": "code",
   "execution_count": 13,
   "id": "7b66f0f9",
   "metadata": {},
   "outputs": [
    {
     "name": "stdout",
     "output_type": "stream",
     "text": [
      "+-----------------+\n",
      "|average_ride_fare|\n",
      "+-----------------+\n",
      "|            178.8|\n",
      "+-----------------+\n",
      "\n"
     ]
    }
   ],
   "source": [
    "average_ride_fare = spark.sql('select avg(fare) as average_ride_fare from ride_data_table')\n",
    "average_ride_fare.show()"
   ]
  },
  {
   "cell_type": "code",
   "execution_count": 14,
   "id": "57986264",
   "metadata": {},
   "outputs": [
    {
     "name": "stdout",
     "output_type": "stream",
     "text": [
      "+-----------------+\n",
      "|maximum_ride_fare|\n",
      "+-----------------+\n",
      "|              300|\n",
      "+-----------------+\n",
      "\n"
     ]
    }
   ],
   "source": [
    "maximum_ride_fare = spark.sql('select max(fare) as maximum_ride_fare from ride_data_table')\n",
    "maximum_ride_fare.show()"
   ]
  },
  {
   "cell_type": "code",
   "execution_count": 15,
   "id": "77d89670",
   "metadata": {},
   "outputs": [
    {
     "name": "stdout",
     "output_type": "stream",
     "text": [
      "+-----------------+\n",
      "|minimum_ride_fare|\n",
      "+-----------------+\n",
      "|              120|\n",
      "+-----------------+\n",
      "\n"
     ]
    }
   ],
   "source": [
    "minimum_ride_fare = spark.sql('select min(fare) as minimum_ride_fare from ride_data_table')\n",
    "minimum_ride_fare.show()"
   ]
  },
  {
   "cell_type": "code",
   "execution_count": 16,
   "id": "79e5e8aa",
   "metadata": {},
   "outputs": [
    {
     "name": "stdout",
     "output_type": "stream",
     "text": [
      "+--------+-----+\n",
      "|driverId|count|\n",
      "+--------+-----+\n",
      "|      25|    3|\n",
      "|      27|    2|\n",
      "|      29|    1|\n",
      "|      28|    1|\n",
      "|      26|    1|\n",
      "|      22|    1|\n",
      "|      23|    1|\n",
      "+--------+-----+\n",
      "\n"
     ]
    }
   ],
   "source": [
    "driver_count = spark.sql('select driverId,count(driverId) as count from ride_data_table group by driverId order by count desc')\n",
    "driver_count.createOrReplaceTempView('driver_count_data')\n",
    "driver_count.show()"
   ]
  },
  {
   "cell_type": "code",
   "execution_count": 17,
   "id": "94af77f6",
   "metadata": {},
   "outputs": [
    {
     "name": "stdout",
     "output_type": "stream",
     "text": [
      "+---------------+-----+\n",
      "|customer_gender|count|\n",
      "+---------------+-----+\n",
      "|              M|    4|\n",
      "|              F|    6|\n",
      "+---------------+-----+\n",
      "\n"
     ]
    }
   ],
   "source": [
    "customer_gender = spark.sql('select cgender as customer_gender,count(cgender) as count from customer_data_table group by cgender order by count')\n",
    "customer_gender.show()"
   ]
  },
  {
   "cell_type": "code",
   "execution_count": 18,
   "id": "267b5804",
   "metadata": {},
   "outputs": [
    {
     "name": "stdout",
     "output_type": "stream",
     "text": [
      "+-------------+-----+\n",
      "|driver_gender|count|\n",
      "+-------------+-----+\n",
      "|            M|   10|\n",
      "+-------------+-----+\n",
      "\n"
     ]
    }
   ],
   "source": [
    "driver_gender = spark.sql('select dgender as driver_gender,count(dgender) as count from driver_data_table group by dgender order by count')\n",
    "driver_gender.show()"
   ]
  },
  {
   "cell_type": "code",
   "execution_count": null,
   "id": "efdcbfd4",
   "metadata": {},
   "outputs": [],
   "source": []
  },
  {
   "cell_type": "code",
   "execution_count": null,
   "id": "098db053",
   "metadata": {},
   "outputs": [],
   "source": []
  },
  {
   "cell_type": "code",
   "execution_count": null,
   "id": "d29705d4",
   "metadata": {},
   "outputs": [],
   "source": []
  },
  {
   "cell_type": "markdown",
   "id": "80d6ad0a",
   "metadata": {},
   "source": [
    "# Thank You"
   ]
  }
 ],
 "metadata": {
  "kernelspec": {
   "display_name": "Python 3",
   "language": "python",
   "name": "python3"
  },
  "language_info": {
   "codemirror_mode": {
    "name": "ipython",
    "version": 3
   },
   "file_extension": ".py",
   "mimetype": "text/x-python",
   "name": "python",
   "nbconvert_exporter": "python",
   "pygments_lexer": "ipython3",
   "version": "3.8.8"
  }
 },
 "nbformat": 4,
 "nbformat_minor": 5
}
